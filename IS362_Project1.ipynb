{
 "cells": [
  {
   "cell_type": "markdown",
   "metadata": {},
   "source": [
    "# IS362 Project 1"
   ]
  },
  {
   "cell_type": "markdown",
   "metadata": {},
   "source": [
    "## Direction"
   ]
  },
  {
   "cell_type": "markdown",
   "metadata": {},
   "source": [
    "(1) Create a .CSV file (or optionally, a MySQL database!) that includes all of the information below. You may change\n",
    "the structure of the information as you like.\n",
    "\n",
    "(2) Read the information from your .CSV file into pandas, and perform analysis to compare the arrival delays for the\n",
    "two airlines.\n",
    "\n",
    "(3) Your code should be in a Jupyter (IPython) notebook (in GitHub), and should include narrative descriptions of your\n",
    "analysis and conclusions."
   ]
  },
  {
   "cell_type": "markdown",
   "metadata": {},
   "source": [
    "### Creating a .CSV file\n",
    "\n",
    "We will first create a .csv file of the data given regarding Alaska and AM West airlines."
   ]
  },
  {
   "cell_type": "code",
   "execution_count": 2,
   "metadata": {
    "collapsed": true
   },
   "outputs": [],
   "source": [
    "# import the modules we're going to use\n",
    "\n",
    "import csv\n",
    "import pandas as pd"
   ]
  },
  {
   "cell_type": "code",
   "execution_count": 3,
   "metadata": {
    "collapsed": true
   },
   "outputs": [],
   "source": [
    "# writing a csv file\n",
    "with open('data.csv', 'w') as csvfile:\n",
    "    filewriter = csv.writer(csvfile, delimiter=',')\n",
    "    filewriter.writerow(['City', 'Alaska-on time', 'Alaska-delayed', 'AM West-on time', 'AM West-delayed'])\n",
    "    filewriter.writerow(['Los Angeles', 497, 62, 694, 117])\n",
    "    filewriter.writerow(['Phoenix', 221, 12, 4840, 412])\n",
    "    filewriter.writerow(['San Diego', 212, 20, 383, 65])\n",
    "    filewriter.writerow(['San Francisco', 503, 102, 320, 129])\n",
    "    filewriter.writerow(['Seattle', 1841, 305, 201, 61])"
   ]
  },
  {
   "cell_type": "code",
   "execution_count": 4,
   "metadata": {},
   "outputs": [
    {
     "name": "stdout",
     "output_type": "stream",
     "text": [
      "['City', 'Alaska-on time', 'Alaska-delayed', 'AM West-on time', 'AM West-delayed']\n",
      "[]\n",
      "['Los Angeles', '497', '62', '694', '117']\n",
      "[]\n",
      "['Phoenix', '221', '12', '4840', '412']\n",
      "[]\n",
      "['San Diego', '212', '20', '383', '65']\n",
      "[]\n",
      "['San Francisco', '503', '102', '320', '129']\n",
      "[]\n",
      "['Seattle', '1841', '305', '201', '61']\n",
      "[]\n"
     ]
    }
   ],
   "source": [
    "#opening a csv file by printing each row\n",
    "with open('data.csv', 'r') as f:\n",
    "    reader = csv.reader(f)\n",
    "    for row in reader:\n",
    "        print(row)"
   ]
  },
  {
   "cell_type": "markdown",
   "metadata": {},
   "source": [
    "### Reading .CSV file into Pandas"
   ]
  },
  {
   "cell_type": "code",
   "execution_count": 5,
   "metadata": {},
   "outputs": [
    {
     "data": {
      "text/html": [
       "<div>\n",
       "<style>\n",
       "    .dataframe thead tr:only-child th {\n",
       "        text-align: right;\n",
       "    }\n",
       "\n",
       "    .dataframe thead th {\n",
       "        text-align: left;\n",
       "    }\n",
       "\n",
       "    .dataframe tbody tr th {\n",
       "        vertical-align: top;\n",
       "    }\n",
       "</style>\n",
       "<table border=\"1\" class=\"dataframe\">\n",
       "  <thead>\n",
       "    <tr style=\"text-align: right;\">\n",
       "      <th></th>\n",
       "      <th>City</th>\n",
       "      <th>Alaska-on time</th>\n",
       "      <th>Alaska-delayed</th>\n",
       "      <th>AM West-on time</th>\n",
       "      <th>AM West-delayed</th>\n",
       "    </tr>\n",
       "  </thead>\n",
       "  <tbody>\n",
       "    <tr>\n",
       "      <th>0</th>\n",
       "      <td>Los Angeles</td>\n",
       "      <td>497</td>\n",
       "      <td>62</td>\n",
       "      <td>694</td>\n",
       "      <td>117</td>\n",
       "    </tr>\n",
       "    <tr>\n",
       "      <th>1</th>\n",
       "      <td>Phoenix</td>\n",
       "      <td>221</td>\n",
       "      <td>12</td>\n",
       "      <td>4840</td>\n",
       "      <td>412</td>\n",
       "    </tr>\n",
       "    <tr>\n",
       "      <th>2</th>\n",
       "      <td>San Diego</td>\n",
       "      <td>212</td>\n",
       "      <td>20</td>\n",
       "      <td>383</td>\n",
       "      <td>65</td>\n",
       "    </tr>\n",
       "    <tr>\n",
       "      <th>3</th>\n",
       "      <td>San Francisco</td>\n",
       "      <td>503</td>\n",
       "      <td>102</td>\n",
       "      <td>320</td>\n",
       "      <td>129</td>\n",
       "    </tr>\n",
       "    <tr>\n",
       "      <th>4</th>\n",
       "      <td>Seattle</td>\n",
       "      <td>1841</td>\n",
       "      <td>305</td>\n",
       "      <td>201</td>\n",
       "      <td>61</td>\n",
       "    </tr>\n",
       "  </tbody>\n",
       "</table>\n",
       "</div>"
      ],
      "text/plain": [
       "            City  Alaska-on time  Alaska-delayed  AM West-on time  \\\n",
       "0    Los Angeles             497              62              694   \n",
       "1        Phoenix             221              12             4840   \n",
       "2      San Diego             212              20              383   \n",
       "3  San Francisco             503             102              320   \n",
       "4        Seattle            1841             305              201   \n",
       "\n",
       "   AM West-delayed  \n",
       "0              117  \n",
       "1              412  \n",
       "2               65  \n",
       "3              129  \n",
       "4               61  "
      ]
     },
     "execution_count": 5,
     "metadata": {},
     "output_type": "execute_result"
    }
   ],
   "source": [
    "read_file = pd.read_csv('data.csv')\n",
    "read_file"
   ]
  },
  {
   "cell_type": "markdown",
   "metadata": {},
   "source": [
    "### Comparing the data"
   ]
  },
  {
   "cell_type": "markdown",
   "metadata": {},
   "source": [
    "We want to compare the arrival delays of both airlines, Alaska and AM West.  In order to do that, we will have to add all the flights (on time and delayed flights) of each airline.  The number of delayed flights would then be divided by the total number of flights.  We want convert the quotient to a percentage by multiplying it by 100."
   ]
  },
  {
   "cell_type": "code",
   "execution_count": 7,
   "metadata": {},
   "outputs": [
    {
     "data": {
      "text/html": [
       "<div>\n",
       "<style>\n",
       "    .dataframe thead tr:only-child th {\n",
       "        text-align: right;\n",
       "    }\n",
       "\n",
       "    .dataframe thead th {\n",
       "        text-align: left;\n",
       "    }\n",
       "\n",
       "    .dataframe tbody tr th {\n",
       "        vertical-align: top;\n",
       "    }\n",
       "</style>\n",
       "<table border=\"1\" class=\"dataframe\">\n",
       "  <thead>\n",
       "    <tr style=\"text-align: right;\">\n",
       "      <th></th>\n",
       "      <th>City</th>\n",
       "      <th>Alaska-on time</th>\n",
       "      <th>Alaska-delayed</th>\n",
       "      <th>AM West-on time</th>\n",
       "      <th>AM West-delayed</th>\n",
       "      <th>Total Alaska flights</th>\n",
       "      <th>Total AM West flights</th>\n",
       "      <th>Percentage of delayed flights-Alaska</th>\n",
       "      <th>Percentage of delayed flights-AM West</th>\n",
       "    </tr>\n",
       "  </thead>\n",
       "  <tbody>\n",
       "    <tr>\n",
       "      <th>0</th>\n",
       "      <td>Los Angeles</td>\n",
       "      <td>497</td>\n",
       "      <td>62</td>\n",
       "      <td>694</td>\n",
       "      <td>117</td>\n",
       "      <td>559</td>\n",
       "      <td>811</td>\n",
       "      <td>11.091234</td>\n",
       "      <td>14.426634</td>\n",
       "    </tr>\n",
       "    <tr>\n",
       "      <th>1</th>\n",
       "      <td>Phoenix</td>\n",
       "      <td>221</td>\n",
       "      <td>12</td>\n",
       "      <td>4840</td>\n",
       "      <td>412</td>\n",
       "      <td>233</td>\n",
       "      <td>5252</td>\n",
       "      <td>5.150215</td>\n",
       "      <td>7.844631</td>\n",
       "    </tr>\n",
       "    <tr>\n",
       "      <th>2</th>\n",
       "      <td>San Diego</td>\n",
       "      <td>212</td>\n",
       "      <td>20</td>\n",
       "      <td>383</td>\n",
       "      <td>65</td>\n",
       "      <td>232</td>\n",
       "      <td>448</td>\n",
       "      <td>8.620690</td>\n",
       "      <td>14.508929</td>\n",
       "    </tr>\n",
       "    <tr>\n",
       "      <th>3</th>\n",
       "      <td>San Francisco</td>\n",
       "      <td>503</td>\n",
       "      <td>102</td>\n",
       "      <td>320</td>\n",
       "      <td>129</td>\n",
       "      <td>605</td>\n",
       "      <td>449</td>\n",
       "      <td>16.859504</td>\n",
       "      <td>28.730512</td>\n",
       "    </tr>\n",
       "    <tr>\n",
       "      <th>4</th>\n",
       "      <td>Seattle</td>\n",
       "      <td>1841</td>\n",
       "      <td>305</td>\n",
       "      <td>201</td>\n",
       "      <td>61</td>\n",
       "      <td>2146</td>\n",
       "      <td>262</td>\n",
       "      <td>14.212488</td>\n",
       "      <td>23.282443</td>\n",
       "    </tr>\n",
       "  </tbody>\n",
       "</table>\n",
       "</div>"
      ],
      "text/plain": [
       "            City  Alaska-on time  Alaska-delayed  AM West-on time  \\\n",
       "0    Los Angeles             497              62              694   \n",
       "1        Phoenix             221              12             4840   \n",
       "2      San Diego             212              20              383   \n",
       "3  San Francisco             503             102              320   \n",
       "4        Seattle            1841             305              201   \n",
       "\n",
       "   AM West-delayed  Total Alaska flights  Total AM West flights  \\\n",
       "0              117                   559                    811   \n",
       "1              412                   233                   5252   \n",
       "2               65                   232                    448   \n",
       "3              129                   605                    449   \n",
       "4               61                  2146                    262   \n",
       "\n",
       "   Percentage of delayed flights-Alaska  Percentage of delayed flights-AM West  \n",
       "0                             11.091234                              14.426634  \n",
       "1                              5.150215                               7.844631  \n",
       "2                              8.620690                              14.508929  \n",
       "3                             16.859504                              28.730512  \n",
       "4                             14.212488                              23.282443  "
      ]
     },
     "execution_count": 7,
     "metadata": {},
     "output_type": "execute_result"
    }
   ],
   "source": [
    "# computation of delayed flights percentages\n",
    "# will also add rows to the file\n",
    "read_file['Total Alaska flights'] = read_file['Alaska-on time'] + read_file['Alaska-delayed']\n",
    "read_file['Total AM West flights'] = read_file['AM West-on time'] + read_file['AM West-delayed']\n",
    "read_file['Percentage of delayed flights-Alaska'] = (read_file['Alaska-delayed'] / read_file['Total Alaska flights']) * 100\n",
    "read_file['Percentage of delayed flights-AM West'] = (read_file['AM West-delayed'] / read_file['Total AM West flights']) * 100\n",
    "read_file"
   ]
  },
  {
   "cell_type": "markdown",
   "metadata": {
    "collapsed": true
   },
   "source": [
    "Looking at the percentages of delayed flights for Alaska and AM West airlines, we see that AM West has a higher delayed flights percentage.  Both airlines have the least delayed percentage for flights to Phoenix and the most for flights to San Francisco.  Based on the data, Alaska airlines is a better airline than AM West when in comes to getting you to your destination on time."
   ]
  }
 ],
 "metadata": {
  "kernelspec": {
   "display_name": "Python 3",
   "language": "python",
   "name": "python3"
  },
  "language_info": {
   "codemirror_mode": {
    "name": "ipython",
    "version": 3
   },
   "file_extension": ".py",
   "mimetype": "text/x-python",
   "name": "python",
   "nbconvert_exporter": "python",
   "pygments_lexer": "ipython3",
   "version": "3.6.3"
  }
 },
 "nbformat": 4,
 "nbformat_minor": 2
}
